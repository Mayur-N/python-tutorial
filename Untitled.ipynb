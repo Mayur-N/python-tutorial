{
 "cells": [
  {
   "cell_type": "code",
   "execution_count": 5,
   "id": "a374b958-eb6f-4f16-9770-a92c03b4cb94",
   "metadata": {},
   "outputs": [
    {
     "ename": "KeyboardInterrupt",
     "evalue": "Interrupted by user",
     "output_type": "error",
     "traceback": [
      "\u001b[1;31m---------------------------------------------------------------------------\u001b[0m",
      "\u001b[1;31mKeyboardInterrupt\u001b[0m                         Traceback (most recent call last)",
      "Cell \u001b[1;32mIn[5], line 9\u001b[0m\n\u001b[0;32m      7\u001b[0m \u001b[38;5;28;01mwhile\u001b[39;00m(\u001b[38;5;28;01mTrue\u001b[39;00m):\n\u001b[0;32m      8\u001b[0m     clear_output()\n\u001b[1;32m----> 9\u001b[0m     action \u001b[38;5;241m=\u001b[39m \u001b[38;5;28mint\u001b[39m(\u001b[38;5;28minput\u001b[39m(\u001b[38;5;124m'\u001b[39m\u001b[38;5;124mSelect operation:\u001b[39m\u001b[38;5;130;01m\\n\u001b[39;00m\u001b[38;5;124m 1.Show List \u001b[39m\u001b[38;5;130;01m\\n\u001b[39;00m\u001b[38;5;124m 2.Add Todo \u001b[39m\u001b[38;5;130;01m\\n\u001b[39;00m\u001b[38;5;124m 3.Delete Todo \u001b[39m\u001b[38;5;130;01m\\n\u001b[39;00m\u001b[38;5;124m 4.Mark as Done \u001b[39m\u001b[38;5;130;01m\\n\u001b[39;00m\u001b[38;5;124m 5.Exit \u001b[39m\u001b[38;5;130;01m\\n\u001b[39;00m\u001b[38;5;130;01m\\n\u001b[39;00m\u001b[38;5;130;01m\\t\u001b[39;00m\u001b[38;5;124m'\u001b[39m))\n\u001b[0;32m     11\u001b[0m     \u001b[38;5;66;03m# logic for option-1: Show list\u001b[39;00m\n\u001b[0;32m     12\u001b[0m     \u001b[38;5;28;01mif\u001b[39;00m action \u001b[38;5;241m==\u001b[39m \u001b[38;5;241m1\u001b[39m:\n",
      "File \u001b[1;32mC:\\ProgramData\\anaconda3\\Lib\\site-packages\\ipykernel\\kernelbase.py:1175\u001b[0m, in \u001b[0;36mKernel.raw_input\u001b[1;34m(self, prompt)\u001b[0m\n\u001b[0;32m   1171\u001b[0m \u001b[38;5;28;01mif\u001b[39;00m \u001b[38;5;129;01mnot\u001b[39;00m \u001b[38;5;28mself\u001b[39m\u001b[38;5;241m.\u001b[39m_allow_stdin:\n\u001b[0;32m   1172\u001b[0m     \u001b[38;5;28;01mraise\u001b[39;00m StdinNotImplementedError(\n\u001b[0;32m   1173\u001b[0m         \u001b[38;5;124m\"\u001b[39m\u001b[38;5;124mraw_input was called, but this frontend does not support input requests.\u001b[39m\u001b[38;5;124m\"\u001b[39m\n\u001b[0;32m   1174\u001b[0m     )\n\u001b[1;32m-> 1175\u001b[0m \u001b[38;5;28;01mreturn\u001b[39;00m \u001b[38;5;28mself\u001b[39m\u001b[38;5;241m.\u001b[39m_input_request(\n\u001b[0;32m   1176\u001b[0m     \u001b[38;5;28mstr\u001b[39m(prompt),\n\u001b[0;32m   1177\u001b[0m     \u001b[38;5;28mself\u001b[39m\u001b[38;5;241m.\u001b[39m_parent_ident[\u001b[38;5;124m\"\u001b[39m\u001b[38;5;124mshell\u001b[39m\u001b[38;5;124m\"\u001b[39m],\n\u001b[0;32m   1178\u001b[0m     \u001b[38;5;28mself\u001b[39m\u001b[38;5;241m.\u001b[39mget_parent(\u001b[38;5;124m\"\u001b[39m\u001b[38;5;124mshell\u001b[39m\u001b[38;5;124m\"\u001b[39m),\n\u001b[0;32m   1179\u001b[0m     password\u001b[38;5;241m=\u001b[39m\u001b[38;5;28;01mFalse\u001b[39;00m,\n\u001b[0;32m   1180\u001b[0m )\n",
      "File \u001b[1;32mC:\\ProgramData\\anaconda3\\Lib\\site-packages\\ipykernel\\kernelbase.py:1217\u001b[0m, in \u001b[0;36mKernel._input_request\u001b[1;34m(self, prompt, ident, parent, password)\u001b[0m\n\u001b[0;32m   1214\u001b[0m             \u001b[38;5;28;01mbreak\u001b[39;00m\n\u001b[0;32m   1215\u001b[0m \u001b[38;5;28;01mexcept\u001b[39;00m \u001b[38;5;167;01mKeyboardInterrupt\u001b[39;00m:\n\u001b[0;32m   1216\u001b[0m     \u001b[38;5;66;03m# re-raise KeyboardInterrupt, to truncate traceback\u001b[39;00m\n\u001b[1;32m-> 1217\u001b[0m     \u001b[38;5;28;01mraise\u001b[39;00m \u001b[38;5;167;01mKeyboardInterrupt\u001b[39;00m(\u001b[38;5;124m\"\u001b[39m\u001b[38;5;124mInterrupted by user\u001b[39m\u001b[38;5;124m\"\u001b[39m) \u001b[38;5;28;01mfrom\u001b[39;00m \u001b[38;5;28;01mNone\u001b[39;00m\n\u001b[0;32m   1218\u001b[0m \u001b[38;5;28;01mexcept\u001b[39;00m \u001b[38;5;167;01mException\u001b[39;00m:\n\u001b[0;32m   1219\u001b[0m     \u001b[38;5;28mself\u001b[39m\u001b[38;5;241m.\u001b[39mlog\u001b[38;5;241m.\u001b[39mwarning(\u001b[38;5;124m\"\u001b[39m\u001b[38;5;124mInvalid Message:\u001b[39m\u001b[38;5;124m\"\u001b[39m, exc_info\u001b[38;5;241m=\u001b[39m\u001b[38;5;28;01mTrue\u001b[39;00m)\n",
      "\u001b[1;31mKeyboardInterrupt\u001b[0m: Interrupted by user"
     ]
    }
   ],
   "source": [
    "#get input from user\n",
    "from IPython.display import clear_output\n",
    "\n",
    "todoList = []\n",
    "doneList = []\n",
    "\n",
    "while(True):\n",
    "    clear_output()\n",
    "    action = int(input('Select operation:\\n 1.Show List \\n 2.Add Todo \\n 3.Delete Todo \\n 4.Mark as Done \\n 5.Exit \\n\\n\\t'))\n",
    "\n",
    "    # logic for option-1: Show list\n",
    "    if action == 1:\n",
    "        print('Todo List: ')\n",
    "        for index, element in enumerate(todoList):\n",
    "            print(f\"{index+1}. {element}\")\n",
    "            \n",
    "        print('Done: ')\n",
    "        for index, element in enumerate(doneList):\n",
    "            print(f\"{index}. {element}\")\n",
    "            \n",
    "    elif action == 2:\n",
    "        todo = input('Enter a Todo item:\\t')\n",
    "        todoList.append(todo)\n",
    "    elif action == 3:\n",
    "        todo = input('Enter a item to be deleted from Todo list:\\t')\n",
    "        if todo in todoList:\n",
    "            todoList.remove(todo)\n",
    "            print(f'Item {todo} removed from the list')\n",
    "    elif action == 4:\n",
    "        todo = input('Enter a item to be marked as done:\\t')\n",
    "        if todo in todoList:\n",
    "            doneList.append(todo)\n",
    "            todoList.remove(todo)\n",
    "            print(f'Item {todo} is marked as completed.')\n",
    "    elif action == 5:\n",
    "        break            \n",
    "\n",
    "                \n",
    "print('Exited Program.')\n",
    "\n",
    "#\n"
   ]
  },
  {
   "cell_type": "code",
   "execution_count": 1,
   "id": "c9bd9215",
   "metadata": {},
   "outputs": [],
   "source": []
  },
  {
   "cell_type": "code",
   "execution_count": 2,
   "id": "753c7ba4",
   "metadata": {},
   "outputs": [
    {
     "data": {
      "text/plain": [
       "dict"
      ]
     },
     "execution_count": 2,
     "metadata": {},
     "output_type": "execute_result"
    }
   ],
   "source": [
    "type(keyVal)"
   ]
  },
  {
   "cell_type": "code",
   "execution_count": null,
   "id": "8882384b",
   "metadata": {},
   "outputs": [],
   "source": [
    "keyVal.update"
   ]
  }
 ],
 "metadata": {
  "kernelspec": {
   "display_name": "Python 3 (ipykernel)",
   "language": "python",
   "name": "python3"
  },
  "language_info": {
   "codemirror_mode": {
    "name": "ipython",
    "version": 3
   },
   "file_extension": ".py",
   "mimetype": "text/x-python",
   "name": "python",
   "nbconvert_exporter": "python",
   "pygments_lexer": "ipython3",
   "version": "3.11.4"
  }
 },
 "nbformat": 4,
 "nbformat_minor": 5
}
