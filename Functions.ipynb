{
 "cells": [
  {
   "cell_type": "markdown",
   "id": "b679ed64",
   "metadata": {},
   "source": [
    "## What Are Functions?\n",
    "\n",
    "Functions are reusable pieces of code that perform a specific task. They allow you to break down complex problems into smaller, more manageable tasks. Functions can take input, perform some action, and return output.\n"
   ]
  },
  {
   "cell_type": "markdown",
   "id": "3e652e8c",
   "metadata": {},
   "source": [
    "## Defining Functions\n",
    "\n",
    "In Python, you define a function using the def keyword, followed by the function name, a set of parentheses, and a colon. The code block inside the function is indented.\n",
    "\n",
    "**Syntax**\n",
    "```\n",
    "def greet():\n",
    "    print(\"Hello, world!\")\n",
    "```\n",
    "\n",
    "To call this function, you would write:\n",
    "\n",
    "```\n",
    "greet()\n",
    "```"
   ]
  },
  {
   "cell_type": "code",
   "execution_count": null,
   "id": "1f74eb78",
   "metadata": {},
   "outputs": [],
   "source": []
  },
  {
   "cell_type": "markdown",
   "id": "be5401a8",
   "metadata": {},
   "source": [
    "## Parameters and Arguments\n",
    "\n",
    "Functions can take input values, known as parameters, to perform specific tasks. When you call a function, you provide these values, known as arguments.\n",
    "\n",
    "```\n",
    "def greet(name):\n",
    "    print(f\"Hello, {name}!\")\n",
    "\n",
    "greet(\"Alice\")\n",
    "```\n",
    "\n",
    "#### Default Parameters\n",
    "You can set default values for parameters, making them optional.\n",
    "\n",
    "```\n",
    "def greet(name=\"world\"):\n",
    "    print(f\"Hello, {name}!\")\n",
    "\n",
    "greet()\n",
    "greet(\"Alice\")\n",
    "\n",
    "```\n"
   ]
  },
  {
   "cell_type": "code",
   "execution_count": null,
   "id": "30aec42e",
   "metadata": {},
   "outputs": [],
   "source": []
  },
  {
   "cell_type": "markdown",
   "id": "fbe08139",
   "metadata": {},
   "source": [
    "## Return Values\n",
    "\n",
    "Functions can also return values using the return keyword.\n",
    "\n",
    "```\n",
    "def add(a, b):\n",
    "    return a + b\n",
    "\n",
    "result = add(5, 3)\n",
    "print(result)\n",
    "\n",
    "```"
   ]
  },
  {
   "cell_type": "code",
   "execution_count": null,
   "id": "1b25c10a",
   "metadata": {},
   "outputs": [],
   "source": []
  },
  {
   "cell_type": "markdown",
   "id": "07c957b2",
   "metadata": {},
   "source": [
    "## Variable-length Arguments\n",
    "\n",
    "Sometimes you might want to pass an arbitrary number of arguments to a function. You can do this using `*args` for positional arguments and `**kwargs` for keyword arguments.\n",
    "\n",
    "```\n",
    "def print_args(*args, **kwargs):\n",
    "    print(\"Positional arguments:\", args)\n",
    "    print(\"Keyword arguments:\", kwargs)\n",
    "\n",
    "print_args(1, 2, 3, a=4, b=5)\n",
    "\n",
    "```"
   ]
  },
  {
   "cell_type": "code",
   "execution_count": null,
   "id": "62e56721",
   "metadata": {},
   "outputs": [],
   "source": []
  },
  {
   "cell_type": "markdown",
   "id": "5386a221",
   "metadata": {},
   "source": [
    "## Scope of Variables\n",
    "\n",
    "\n",
    "Variables defined inside a function are local to that function and cannot be accessed outside it. Variables defined outside all functions are global variables.\n",
    "\n",
    "```\n",
    "x = 10  # Global variable\n",
    "\n",
    "def my_function():\n",
    "    y = 5  # Local variable\n",
    "    print(x, y)\n",
    "\n",
    "my_function()\n",
    "```\n",
    "\n"
   ]
  },
  {
   "cell_type": "code",
   "execution_count": null,
   "id": "af01d3d9",
   "metadata": {},
   "outputs": [],
   "source": []
  },
  {
   "cell_type": "markdown",
   "id": "8af12cbe",
   "metadata": {},
   "source": [
    "## Modules\n",
    "\n",
    "In Python, a module is a file containing Python code. It can define functions, classes, and variables that you can reuse in other Python scripts. Modules are a way of organizing your code and making it more modular and maintainable.\n",
    "\n",
    "**`import` Statement**\n",
    "\n",
    "The import statement is used to include a module's code in your program. Once a module is imported, you can use its functions, classes, and variables.\n",
    "\n",
    "For example, to import the math module, you would write:\n",
    "\n",
    "`import math`\n",
    "\n",
    "Now you can use functions from the math module, like math.sqrt() to calculate the square root of a number.\n",
    "\n",
    "#### `random` Module\n",
    "\n",
    "The random module provides functions to generate random numbers. This is useful for creating games, simulations, and much more.\n",
    "\n",
    "For example, to generate a random integer between 1 and 10, you can use:\n",
    "\n",
    "```\n",
    "import random\n",
    "\n",
    "random_number = random.randint(1, 10)\n",
    "\n",
    "```\n",
    "\n",
    "Here, randint is a function from the random module that returns a random integer between the two arguments, inclusive."
   ]
  },
  {
   "cell_type": "markdown",
   "id": "0b1c1d27",
   "metadata": {},
   "source": [
    "### input() Function\n",
    "\n",
    "The input() function is used to take input from the user. The function reads a line from the input and returns it as a string.\n",
    "\n",
    "For example:\n",
    "```\n",
    "name = input(\"What is your name? \")\n",
    "print(f\"Hello, {name}!\")\n",
    "\n",
    "```\n",
    "\n",
    "In this example, the program will pause and wait for the user to enter their name. Once they press Enter, the program will continue and print a greeting."
   ]
  },
  {
   "cell_type": "code",
   "execution_count": null,
   "id": "cadf03be",
   "metadata": {},
   "outputs": [],
   "source": []
  }
 ],
 "metadata": {
  "kernelspec": {
   "display_name": "Python 3 (ipykernel)",
   "language": "python",
   "name": "python3"
  },
  "language_info": {
   "codemirror_mode": {
    "name": "ipython",
    "version": 3
   },
   "file_extension": ".py",
   "mimetype": "text/x-python",
   "name": "python",
   "nbconvert_exporter": "python",
   "pygments_lexer": "ipython3",
   "version": "3.11.4"
  }
 },
 "nbformat": 4,
 "nbformat_minor": 5
}
